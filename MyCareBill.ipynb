{
  "nbformat": 4,
  "nbformat_minor": 0,
  "metadata": {
    "colab": {
      "provenance": []
    },
    "kernelspec": {
      "name": "python3",
      "display_name": "Python 3"
    },
    "language_info": {
      "name": "python"
    }
  },
  "cells": [
    {
      "cell_type": "markdown",
      "source": [
        "# MyCareBill"
      ],
      "metadata": {
        "id": "Bd72ZZ25owZp"
      }
    },
    {
      "cell_type": "code",
      "execution_count": null,
      "metadata": {
        "colab": {
          "base_uri": "https://localhost:8080/"
        },
        "id": "OzfYY6yZovcR",
        "outputId": "f06af371-a32f-4c4d-ea32-17e5b91a8b2f"
      },
      "outputs": [
        {
          "output_type": "stream",
          "name": "stdout",
          "text": [
            "Data saved to C:\\Users\\victo\\OneDrive\\Desktop\\MyCareBill/hospital_data.csv\n"
          ]
        }
      ],
      "source": [
        "import requests\n",
        "from bs4 import BeautifulSoup\n",
        "import csv\n",
        "import os  # Import the os module for file path manipulation\n",
        "\n",
        "# Define the URL of the website to scrape\n",
        "url = \"https://www.mdsave.com/\"\n",
        "\n",
        "# Send an HTTP GET request to the URL\n",
        "response = requests.get(url)\n",
        "\n",
        "# Check if the request was successful\n",
        "if response.status_code == 200:\n",
        "    # Parse the HTML content of the page\n",
        "    soup = BeautifulSoup(response.text, \"html.parser\")\n",
        "\n",
        "    # Extract data from the HTML, e.g., by finding specific elements using CSS selectors\n",
        "    hospitals = soup.find_all(\"div\", class_=\"search-results\")\n",
        "\n",
        "    # Specify the folder path where you want to save the CSV file\n",
        "    folder_path = \"C:\\\\Users\\\\victo\\\\OneDrive\\\\Desktop\\\\MyCareBill\"\n",
        "\n",
        "    # Create the folder if it doesn't exist\n",
        "    if not os.path.exists(folder_path):\n",
        "        os.makedirs(folder_path)\n",
        "\n",
        "    # Define the full path to the CSV file, including the folder\n",
        "    csv_file_path = os.path.join(folder_path, \"hospital_data.csv\")\n",
        "\n",
        "    # Open a CSV file for writing\n",
        "    with open(csv_file_path, \"w\", newline=\"\") as csvfile:\n",
        "        csv_writer = csv.writer(csvfile)\n",
        "\n",
        "        # Write header row\n",
        "        csv_writer.writerow([\"Hospital Name\", \"Procedure Cost\"])\n",
        "\n",
        "        for hospital in hospitals:\n",
        "            hospital_name = hospital.find(\"h4\", class_=\"clinic-name\").text\n",
        "            procedure_cost = hospital.find(\"div\", class_=\"price\").text\n",
        "            # Write data to the CSV file\n",
        "            csv_writer.writerow([hospital_name, procedure_cost])\n",
        "\n",
        "    print(\"Data saved to\", csv_file_path)\n",
        "else:\n",
        "    print(\"Failed to retrieve the web page. Status code:\", response.status_code)\n"
      ]
    },
    {
      "cell_type": "code",
      "source": [],
      "metadata": {
        "id": "YQBT-0TBpdHN"
      },
      "execution_count": null,
      "outputs": []
    }
  ]
}